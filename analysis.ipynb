{
 "cells": [
  {
   "cell_type": "code",
   "execution_count": 27,
   "id": "5eebc58e",
   "metadata": {},
   "outputs": [],
   "source": [
    "import pandas as pd\n",
    "import mysql.connector\n",
    "from dotenv import load_dotenv\n",
    "import os\n",
    "from faker import Faker\n",
    "import random\n",
    "load_dotenv()\n",
    "\n",
    "db_user = os.getenv('password')\n",
    "conn = mysql.connector.connect(\n",
    "    host=\"localhost\",       # or your MySQL server IP\n",
    "    user=\"root\",            # your MySQL username\n",
    "    password=db_user,# your MySQL password\n",
    "    database=\"pizza_ordering\"       # database name\n",
    ")\n",
    "cursor = conn.cursor()"
   ]
  },
  {
   "cell_type": "code",
   "execution_count": null,
   "id": "14165531",
   "metadata": {},
   "outputs": [
    {
     "ename": "SyntaxError",
     "evalue": "incomplete input (2200795631.py, line 12)",
     "output_type": "error",
     "traceback": [
      "  \u001b[36mCell\u001b[39m\u001b[36m \u001b[39m\u001b[32mIn[26]\u001b[39m\u001b[32m, line 12\u001b[39m\n\u001b[31m    \u001b[39m\u001b[31mfor _ in range(10):\u001b[39m\n                       ^\n\u001b[31mSyntaxError\u001b[39m\u001b[31m:\u001b[39m incomplete input\n"
     ]
    }
   ],
   "source": [
    "import string\n",
    "fake = Faker()\n",
    "\n",
    "def generate_discount_code(length=8):\n",
    "    # Create a random alphanumeric string\n",
    "    letters_and_digits = string.ascii_uppercase + string.digits\n",
    "    return ''.join(random.choices(letters_and_digits, k=length))\n",
    "\n",
    "\n",
    "rand_num = random.randint(10, 60)\n",
    "\n",
    "for _ in range(10):\n",
    "    \n"
   ]
  },
  {
   "cell_type": "code",
   "execution_count": null,
   "id": "6f3ef2a6",
   "metadata": {},
   "outputs": [],
   "source": []
  },
  {
   "cell_type": "code",
   "execution_count": null,
   "id": "0e9c20ed",
   "metadata": {},
   "outputs": [],
   "source": []
  }
 ],
 "metadata": {
  "kernelspec": {
   "display_name": "predictAI",
   "language": "python",
   "name": "python3"
  },
  "language_info": {
   "codemirror_mode": {
    "name": "ipython",
    "version": 3
   },
   "file_extension": ".py",
   "mimetype": "text/x-python",
   "name": "python",
   "nbconvert_exporter": "python",
   "pygments_lexer": "ipython3",
   "version": "3.11.0"
  }
 },
 "nbformat": 4,
 "nbformat_minor": 5
}
